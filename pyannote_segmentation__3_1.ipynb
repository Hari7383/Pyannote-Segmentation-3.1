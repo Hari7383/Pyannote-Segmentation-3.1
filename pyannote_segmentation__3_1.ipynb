{
  "nbformat": 4,
  "nbformat_minor": 0,
  "metadata": {
    "colab": {
      "provenance": []
    },
    "kernelspec": {
      "name": "python3",
      "display_name": "Python 3"
    },
    "language_info": {
      "name": "python"
    }
  },
  "cells": [
    {
      "cell_type": "code",
      "source": [
        "pip install pyannote.audio\n",
        "\n",
        "pip install pyannote.audio==3.1\n",
        "\n",
        "# instantiate the pipeline\n",
        "from pyannote.audio import Pipeline\n",
        "pipeline = Pipeline.from_pretrained(\n",
        "  \"pyannote/speaker-diarization-3.1\",\n",
        "  use_auth_token=\"replace your token\")\n",
        "\n",
        "# run the pipeline on an audio file\n",
        "diarization = pipeline(\"audio.wav\")\n",
        "\n",
        "# dump the diarization output to disk using RTTM format\n",
        "with open(\"audio.rttm\", \"w\") as rttm:\n",
        "    diarization.write_rttm(rttm)\n",
        "\n",
        "pip install torch\n",
        "\n",
        "import torch\n",
        "pipeline.to(torch.device(\"cuda\"))\n",
        "\n",
        "pip install torchaudio\n",
        "\n",
        "import torchaudio\n",
        "waveform, sample_rate = torchaudio.load(\"audio.wav\")\n",
        "diarization = pipeline({\"waveform\": waveform, \"sample_rate\": sample_rate})\n",
        "\n",
        "from pyannote.audio.pipelines.utils.hook import ProgressHook\n",
        "with ProgressHook() as hook:\n",
        "    diarization = pipeline(\"audio.wav\", hook=hook)\n",
        "\n",
        "diarization = pipeline(\"audio.wav\", num_speakers=2)\n",
        "\n",
        "diarization = pipeline(\"audio.wav\", min_speakers=2, max_speakers=5)\n",
        "\n",
        "print(diarization)"
      ],
      "metadata": {
        "id": "tcAc8IHO1hdQ"
      },
      "execution_count": null,
      "outputs": []
    }
  ]
}